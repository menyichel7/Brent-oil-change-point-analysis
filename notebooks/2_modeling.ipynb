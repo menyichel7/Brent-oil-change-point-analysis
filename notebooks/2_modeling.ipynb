{
 "cells": [
  {
   "cell_type": "code",
   "execution_count": 1,
   "id": "935ee0ee",
   "metadata": {},
   "outputs": [
    {
     "ename": "ModuleNotFoundError",
     "evalue": "No module named 'pandas'",
     "output_type": "error",
     "traceback": [
      "\u001b[31m---------------------------------------------------------------------------\u001b[39m",
      "\u001b[31mModuleNotFoundError\u001b[39m                       Traceback (most recent call last)",
      "\u001b[36mCell\u001b[39m\u001b[36m \u001b[39m\u001b[32mIn[1]\u001b[39m\u001b[32m, line 1\u001b[39m\n\u001b[32m----> \u001b[39m\u001b[32m1\u001b[39m \u001b[38;5;28;01mimport\u001b[39;00m\u001b[38;5;250m \u001b[39m\u001b[34;01mpandas\u001b[39;00m\u001b[38;5;250m \u001b[39m\u001b[38;5;28;01mas\u001b[39;00m\u001b[38;5;250m \u001b[39m\u001b[34;01mpd\u001b[39;00m\n\u001b[32m      2\u001b[39m \u001b[38;5;28;01mimport\u001b[39;00m\u001b[38;5;250m \u001b[39m\u001b[34;01mnumpy\u001b[39;00m\u001b[38;5;250m \u001b[39m\u001b[38;5;28;01mas\u001b[39;00m\u001b[38;5;250m \u001b[39m\u001b[34;01mnp\u001b[39;00m\n\u001b[32m      3\u001b[39m \u001b[38;5;28;01mimport\u001b[39;00m\u001b[38;5;250m \u001b[39m\u001b[34;01mpymc\u001b[39;00m\u001b[38;5;250m \u001b[39m\u001b[38;5;28;01mas\u001b[39;00m\u001b[38;5;250m \u001b[39m\u001b[34;01mpm\u001b[39;00m\n",
      "\u001b[31mModuleNotFoundError\u001b[39m: No module named 'pandas'"
     ]
    }
   ],
   "source": [
    "import pandas as pd\n",
    "import numpy as np\n",
    "import pymc as pm\n",
    "import matplotlib.pyplot as plt\n",
    "import arviz as az\n",
    "\n",
    "# Load transformed data\n",
    "df = pd.read_csv(\"../data/BrentOilPrices_transformed.csv\")\n",
    "df['date'] = pd.to_datetime(df['date'])\n",
    "df = df.dropna(subset=['log_return'])\n",
    "returns = df['log_return'].values\n",
    "n = len(returns)\n",
    "\n",
    "# Model: Change Point Detection\n",
    "with pm.Model() as model:\n",
    "    tau = pm.DiscreteUniform('tau', lower=0, upper=n)\n",
    "\n",
    "    mu1 = pm.Normal('mu1', mu=0, sigma=0.05)\n",
    "    mu2 = pm.Normal('mu2', mu=0, sigma=0.05)\n",
    "    sigma = pm.HalfNormal('sigma', sigma=0.05)\n",
    "\n",
    "    mu = pm.math.switch(tau > np.arange(n), mu1, mu2)\n",
    "\n",
    "    obs = pm.Normal('obs', mu=mu, sigma=sigma, observed=returns)\n",
    "\n",
    "    trace = pm.sample(2000, tune=1000, return_inferencedata=True, target_accept=0.95, random_seed=42)\n",
    "\n",
    "# Summary\n",
    "summary = az.summary(trace, var_names=[\"mu1\", \"mu2\", \"tau\", \"sigma\"])\n",
    "print(summary)\n",
    "\n",
    "# Traceplot\n",
    "az.plot_trace(trace, var_names=[\"mu1\", \"mu2\", \"tau\"])\n",
    "plt.tight_layout()\n",
    "plt.show()\n",
    "\n",
    "# Posterior of change point\n",
    "tau_samples = trace.posterior['tau'].values.flatten()\n",
    "best_tau = int(np.median(tau_samples))\n",
    "change_date = df.iloc[best_tau]['date']\n",
    "print(f\"Most probable change point (median τ): {best_tau} → {change_date.date()}\")\n",
    "\n",
    "# Plot log returns with change point\n",
    "plt.figure(figsize=(14,6))\n",
    "plt.plot(df['date'], returns, label='Log Returns')\n",
    "plt.axvline(change_date, color='red', linestyle='--', label='Change Point')\n",
    "plt.title(\"Log Returns with Estimated Change Point\")\n",
    "plt.xlabel(\"Date\")\n",
    "plt.ylabel(\"Log Return\")\n",
    "plt.legend()\n",
    "plt.tight_layout()\n",
    "plt.show()\n"
   ]
  },
  {
   "cell_type": "code",
   "execution_count": 8,
   "id": "7e977cf5",
   "metadata": {},
   "outputs": [
    {
     "name": "stdout",
     "output_type": "stream",
     "text": [
      "PyTensor cache cleared.\n"
     ]
    }
   ],
   "source": [
    "import shutil\n",
    "import pytensor\n",
    "shutil.rmtree(pytensor.config.base_compiledir, ignore_errors=True)\n",
    "print(\"PyTensor cache cleared.\")\n"
   ]
  }
 ],
 "metadata": {
  "kernelspec": {
   "display_name": "venv",
   "language": "python",
   "name": "python3"
  },
  "language_info": {
   "codemirror_mode": {
    "name": "ipython",
    "version": 3
   },
   "file_extension": ".py",
   "mimetype": "text/x-python",
   "name": "python",
   "nbconvert_exporter": "python",
   "pygments_lexer": "ipython3",
   "version": "3.11.2"
  }
 },
 "nbformat": 4,
 "nbformat_minor": 5
}
